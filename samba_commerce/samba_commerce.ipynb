{
  "nbformat": 4,
  "nbformat_minor": 0,
  "metadata": {
    "colab": {
      "provenance": [],
      "authorship_tag": "ABX9TyMEZqkzcBbx2YiQ5E7ZuG7a",
      "include_colab_link": true
    },
    "kernelspec": {
      "name": "python3",
      "display_name": "Python 3"
    },
    "language_info": {
      "name": "python"
    }
  },
  "cells": [
    {
      "cell_type": "markdown",
      "metadata": {
        "id": "view-in-github",
        "colab_type": "text"
      },
      "source": [
        "<a href=\"https://colab.research.google.com/github/DickyTegarJ/data_analyst/blob/main/samba_commerce.ipynb\" target=\"_parent\"><img src=\"https://colab.research.google.com/assets/colab-badge.svg\" alt=\"Open In Colab\"/></a>"
      ]
    },
    {
      "cell_type": "markdown",
      "source": [
        "# **Samba Commerce**\n",
        "\n",
        "Tujuan : memperoleh pemahaman yang lebih jelas mengenai operasi bisnis samba commerce.\n"
      ],
      "metadata": {
        "id": "JzfeuNZtp0t8"
      }
    },
    {
      "cell_type": "code",
      "source": [
        "import pandas as pd\n",
        "\n",
        "df1 = pd.read_csv('samba_commerce_history.csv')\n",
        "df2 = pd.read_csv('samba_commerce_order.csv')\n",
        "\n",
        "# Lakukan inner join berdasarkan kolom 'id'\n",
        "result_df = pd.merge(df1, df2, on='order_id', how='inner')"
      ],
      "metadata": {
        "id": "bmnjeSQna_m0"
      },
      "execution_count": 2,
      "outputs": []
    },
    {
      "cell_type": "code",
      "execution_count": 3,
      "metadata": {
        "colab": {
          "base_uri": "https://localhost:8080/",
          "height": 330
        },
        "id": "vyR4QKiGpyZ0",
        "outputId": "2efdeb84-9f40-4f2a-f2e4-4425af536f2e"
      },
      "outputs": [
        {
          "output_type": "execute_result",
          "data": {
            "text/plain": [
              "        order_id order_purchase_timestamp order_approved_at  \\\n",
              "0  f6e3e816961a8         31/01/2022 23:58  01/02/2022 02:55   \n",
              "1  5d6b2abb1a6c5         31/01/2022 23:46  01/02/2022 02:10   \n",
              "2  4376d8693594f         31/01/2022 23:44  01/02/2022 02:55   \n",
              "3  28553d39cd4b5         31/01/2022 23:38  02/02/2022 02:55   \n",
              "4  5bb486ecd4fdd         31/01/2022 23:38  02/02/2022 02:55   \n",
              "\n",
              "  seller_dispatch_time customer_delivery_time  customer id order_status  \\\n",
              "0                 Fast                   Fast  251fe-68cbe    delivered   \n",
              "1                 Fast                   Fast  fbb3a-cf8e6    delivered   \n",
              "2                 Fast                   Fast  edbd8-03547    delivered   \n",
              "3                 Fast                   Fast  158ff-877a6    delivered   \n",
              "4                 Fast                   Fast  158ff-877a6    delivered   \n",
              "\n",
              "    customer_city customer_state  product_id     seller_id  price  \\\n",
              "0  belo horizonte             MG  4e46ddbd01  b372e-aa7a38     35   \n",
              "1      patrocinio             MG  5a42f20099  40495-012416  37.48   \n",
              "2  rio de janeiro             RJ  18b0ebaeb9  85d9e-97bb13   31.9   \n",
              "3        sao jose             SC  3f14d4497e  f457c-1220dd   84.9   \n",
              "4        sao jose             SC  36f6025b60  f457c-1220dd   89.9   \n",
              "\n",
              "          product_category_name  qty_item   payment_type  \\\n",
              "0  Fashion Bags and Accessories         1    credit_card   \n",
              "1                 sport leisure         1    credit_card   \n",
              "2          computer accessories         1    credit_card   \n",
              "3          computer accessories         2  boleto_ticket   \n",
              "4          computer accessories         1  boleto_ticket   \n",
              "\n",
              "   payment_installments total_payment_value  \n",
              "0                     1               50.10  \n",
              "1                     1               49.96  \n",
              "2                     2               46.00  \n",
              "3                     1              200.48  \n",
              "4                     1              105.28  "
            ],
            "text/html": [
              "\n",
              "  <div id=\"df-6394e0c8-3d1d-4e8e-9880-d43361812d7c\" class=\"colab-df-container\">\n",
              "    <div>\n",
              "<style scoped>\n",
              "    .dataframe tbody tr th:only-of-type {\n",
              "        vertical-align: middle;\n",
              "    }\n",
              "\n",
              "    .dataframe tbody tr th {\n",
              "        vertical-align: top;\n",
              "    }\n",
              "\n",
              "    .dataframe thead th {\n",
              "        text-align: right;\n",
              "    }\n",
              "</style>\n",
              "<table border=\"1\" class=\"dataframe\">\n",
              "  <thead>\n",
              "    <tr style=\"text-align: right;\">\n",
              "      <th></th>\n",
              "      <th>order_id</th>\n",
              "      <th>order_purchase_timestamp</th>\n",
              "      <th>order_approved_at</th>\n",
              "      <th>seller_dispatch_time</th>\n",
              "      <th>customer_delivery_time</th>\n",
              "      <th>customer id</th>\n",
              "      <th>order_status</th>\n",
              "      <th>customer_city</th>\n",
              "      <th>customer_state</th>\n",
              "      <th>product_id</th>\n",
              "      <th>seller_id</th>\n",
              "      <th>price</th>\n",
              "      <th>product_category_name</th>\n",
              "      <th>qty_item</th>\n",
              "      <th>payment_type</th>\n",
              "      <th>payment_installments</th>\n",
              "      <th>total_payment_value</th>\n",
              "    </tr>\n",
              "  </thead>\n",
              "  <tbody>\n",
              "    <tr>\n",
              "      <th>0</th>\n",
              "      <td>f6e3e816961a8</td>\n",
              "      <td>31/01/2022 23:58</td>\n",
              "      <td>01/02/2022 02:55</td>\n",
              "      <td>Fast</td>\n",
              "      <td>Fast</td>\n",
              "      <td>251fe-68cbe</td>\n",
              "      <td>delivered</td>\n",
              "      <td>belo horizonte</td>\n",
              "      <td>MG</td>\n",
              "      <td>4e46ddbd01</td>\n",
              "      <td>b372e-aa7a38</td>\n",
              "      <td>35</td>\n",
              "      <td>Fashion Bags and Accessories</td>\n",
              "      <td>1</td>\n",
              "      <td>credit_card</td>\n",
              "      <td>1</td>\n",
              "      <td>50.10</td>\n",
              "    </tr>\n",
              "    <tr>\n",
              "      <th>1</th>\n",
              "      <td>5d6b2abb1a6c5</td>\n",
              "      <td>31/01/2022 23:46</td>\n",
              "      <td>01/02/2022 02:10</td>\n",
              "      <td>Fast</td>\n",
              "      <td>Fast</td>\n",
              "      <td>fbb3a-cf8e6</td>\n",
              "      <td>delivered</td>\n",
              "      <td>patrocinio</td>\n",
              "      <td>MG</td>\n",
              "      <td>5a42f20099</td>\n",
              "      <td>40495-012416</td>\n",
              "      <td>37.48</td>\n",
              "      <td>sport leisure</td>\n",
              "      <td>1</td>\n",
              "      <td>credit_card</td>\n",
              "      <td>1</td>\n",
              "      <td>49.96</td>\n",
              "    </tr>\n",
              "    <tr>\n",
              "      <th>2</th>\n",
              "      <td>4376d8693594f</td>\n",
              "      <td>31/01/2022 23:44</td>\n",
              "      <td>01/02/2022 02:55</td>\n",
              "      <td>Fast</td>\n",
              "      <td>Fast</td>\n",
              "      <td>edbd8-03547</td>\n",
              "      <td>delivered</td>\n",
              "      <td>rio de janeiro</td>\n",
              "      <td>RJ</td>\n",
              "      <td>18b0ebaeb9</td>\n",
              "      <td>85d9e-97bb13</td>\n",
              "      <td>31.9</td>\n",
              "      <td>computer accessories</td>\n",
              "      <td>1</td>\n",
              "      <td>credit_card</td>\n",
              "      <td>2</td>\n",
              "      <td>46.00</td>\n",
              "    </tr>\n",
              "    <tr>\n",
              "      <th>3</th>\n",
              "      <td>28553d39cd4b5</td>\n",
              "      <td>31/01/2022 23:38</td>\n",
              "      <td>02/02/2022 02:55</td>\n",
              "      <td>Fast</td>\n",
              "      <td>Fast</td>\n",
              "      <td>158ff-877a6</td>\n",
              "      <td>delivered</td>\n",
              "      <td>sao jose</td>\n",
              "      <td>SC</td>\n",
              "      <td>3f14d4497e</td>\n",
              "      <td>f457c-1220dd</td>\n",
              "      <td>84.9</td>\n",
              "      <td>computer accessories</td>\n",
              "      <td>2</td>\n",
              "      <td>boleto_ticket</td>\n",
              "      <td>1</td>\n",
              "      <td>200.48</td>\n",
              "    </tr>\n",
              "    <tr>\n",
              "      <th>4</th>\n",
              "      <td>5bb486ecd4fdd</td>\n",
              "      <td>31/01/2022 23:38</td>\n",
              "      <td>02/02/2022 02:55</td>\n",
              "      <td>Fast</td>\n",
              "      <td>Fast</td>\n",
              "      <td>158ff-877a6</td>\n",
              "      <td>delivered</td>\n",
              "      <td>sao jose</td>\n",
              "      <td>SC</td>\n",
              "      <td>36f6025b60</td>\n",
              "      <td>f457c-1220dd</td>\n",
              "      <td>89.9</td>\n",
              "      <td>computer accessories</td>\n",
              "      <td>1</td>\n",
              "      <td>boleto_ticket</td>\n",
              "      <td>1</td>\n",
              "      <td>105.28</td>\n",
              "    </tr>\n",
              "  </tbody>\n",
              "</table>\n",
              "</div>\n",
              "    <div class=\"colab-df-buttons\">\n",
              "\n",
              "  <div class=\"colab-df-container\">\n",
              "    <button class=\"colab-df-convert\" onclick=\"convertToInteractive('df-6394e0c8-3d1d-4e8e-9880-d43361812d7c')\"\n",
              "            title=\"Convert this dataframe to an interactive table.\"\n",
              "            style=\"display:none;\">\n",
              "\n",
              "  <svg xmlns=\"http://www.w3.org/2000/svg\" height=\"24px\" viewBox=\"0 -960 960 960\">\n",
              "    <path d=\"M120-120v-720h720v720H120Zm60-500h600v-160H180v160Zm220 220h160v-160H400v160Zm0 220h160v-160H400v160ZM180-400h160v-160H180v160Zm440 0h160v-160H620v160ZM180-180h160v-160H180v160Zm440 0h160v-160H620v160Z\"/>\n",
              "  </svg>\n",
              "    </button>\n",
              "\n",
              "  <style>\n",
              "    .colab-df-container {\n",
              "      display:flex;\n",
              "      gap: 12px;\n",
              "    }\n",
              "\n",
              "    .colab-df-convert {\n",
              "      background-color: #E8F0FE;\n",
              "      border: none;\n",
              "      border-radius: 50%;\n",
              "      cursor: pointer;\n",
              "      display: none;\n",
              "      fill: #1967D2;\n",
              "      height: 32px;\n",
              "      padding: 0 0 0 0;\n",
              "      width: 32px;\n",
              "    }\n",
              "\n",
              "    .colab-df-convert:hover {\n",
              "      background-color: #E2EBFA;\n",
              "      box-shadow: 0px 1px 2px rgba(60, 64, 67, 0.3), 0px 1px 3px 1px rgba(60, 64, 67, 0.15);\n",
              "      fill: #174EA6;\n",
              "    }\n",
              "\n",
              "    .colab-df-buttons div {\n",
              "      margin-bottom: 4px;\n",
              "    }\n",
              "\n",
              "    [theme=dark] .colab-df-convert {\n",
              "      background-color: #3B4455;\n",
              "      fill: #D2E3FC;\n",
              "    }\n",
              "\n",
              "    [theme=dark] .colab-df-convert:hover {\n",
              "      background-color: #434B5C;\n",
              "      box-shadow: 0px 1px 3px 1px rgba(0, 0, 0, 0.15);\n",
              "      filter: drop-shadow(0px 1px 2px rgba(0, 0, 0, 0.3));\n",
              "      fill: #FFFFFF;\n",
              "    }\n",
              "  </style>\n",
              "\n",
              "    <script>\n",
              "      const buttonEl =\n",
              "        document.querySelector('#df-6394e0c8-3d1d-4e8e-9880-d43361812d7c button.colab-df-convert');\n",
              "      buttonEl.style.display =\n",
              "        google.colab.kernel.accessAllowed ? 'block' : 'none';\n",
              "\n",
              "      async function convertToInteractive(key) {\n",
              "        const element = document.querySelector('#df-6394e0c8-3d1d-4e8e-9880-d43361812d7c');\n",
              "        const dataTable =\n",
              "          await google.colab.kernel.invokeFunction('convertToInteractive',\n",
              "                                                    [key], {});\n",
              "        if (!dataTable) return;\n",
              "\n",
              "        const docLinkHtml = 'Like what you see? Visit the ' +\n",
              "          '<a target=\"_blank\" href=https://colab.research.google.com/notebooks/data_table.ipynb>data table notebook</a>'\n",
              "          + ' to learn more about interactive tables.';\n",
              "        element.innerHTML = '';\n",
              "        dataTable['output_type'] = 'display_data';\n",
              "        await google.colab.output.renderOutput(dataTable, element);\n",
              "        const docLink = document.createElement('div');\n",
              "        docLink.innerHTML = docLinkHtml;\n",
              "        element.appendChild(docLink);\n",
              "      }\n",
              "    </script>\n",
              "  </div>\n",
              "\n",
              "\n",
              "<div id=\"df-24cc1b9c-5584-454a-a182-4ad26547613a\">\n",
              "  <button class=\"colab-df-quickchart\" onclick=\"quickchart('df-24cc1b9c-5584-454a-a182-4ad26547613a')\"\n",
              "            title=\"Suggest charts\"\n",
              "            style=\"display:none;\">\n",
              "\n",
              "<svg xmlns=\"http://www.w3.org/2000/svg\" height=\"24px\"viewBox=\"0 0 24 24\"\n",
              "     width=\"24px\">\n",
              "    <g>\n",
              "        <path d=\"M19 3H5c-1.1 0-2 .9-2 2v14c0 1.1.9 2 2 2h14c1.1 0 2-.9 2-2V5c0-1.1-.9-2-2-2zM9 17H7v-7h2v7zm4 0h-2V7h2v10zm4 0h-2v-4h2v4z\"/>\n",
              "    </g>\n",
              "</svg>\n",
              "  </button>\n",
              "\n",
              "<style>\n",
              "  .colab-df-quickchart {\n",
              "      --bg-color: #E8F0FE;\n",
              "      --fill-color: #1967D2;\n",
              "      --hover-bg-color: #E2EBFA;\n",
              "      --hover-fill-color: #174EA6;\n",
              "      --disabled-fill-color: #AAA;\n",
              "      --disabled-bg-color: #DDD;\n",
              "  }\n",
              "\n",
              "  [theme=dark] .colab-df-quickchart {\n",
              "      --bg-color: #3B4455;\n",
              "      --fill-color: #D2E3FC;\n",
              "      --hover-bg-color: #434B5C;\n",
              "      --hover-fill-color: #FFFFFF;\n",
              "      --disabled-bg-color: #3B4455;\n",
              "      --disabled-fill-color: #666;\n",
              "  }\n",
              "\n",
              "  .colab-df-quickchart {\n",
              "    background-color: var(--bg-color);\n",
              "    border: none;\n",
              "    border-radius: 50%;\n",
              "    cursor: pointer;\n",
              "    display: none;\n",
              "    fill: var(--fill-color);\n",
              "    height: 32px;\n",
              "    padding: 0;\n",
              "    width: 32px;\n",
              "  }\n",
              "\n",
              "  .colab-df-quickchart:hover {\n",
              "    background-color: var(--hover-bg-color);\n",
              "    box-shadow: 0 1px 2px rgba(60, 64, 67, 0.3), 0 1px 3px 1px rgba(60, 64, 67, 0.15);\n",
              "    fill: var(--button-hover-fill-color);\n",
              "  }\n",
              "\n",
              "  .colab-df-quickchart-complete:disabled,\n",
              "  .colab-df-quickchart-complete:disabled:hover {\n",
              "    background-color: var(--disabled-bg-color);\n",
              "    fill: var(--disabled-fill-color);\n",
              "    box-shadow: none;\n",
              "  }\n",
              "\n",
              "  .colab-df-spinner {\n",
              "    border: 2px solid var(--fill-color);\n",
              "    border-color: transparent;\n",
              "    border-bottom-color: var(--fill-color);\n",
              "    animation:\n",
              "      spin 1s steps(1) infinite;\n",
              "  }\n",
              "\n",
              "  @keyframes spin {\n",
              "    0% {\n",
              "      border-color: transparent;\n",
              "      border-bottom-color: var(--fill-color);\n",
              "      border-left-color: var(--fill-color);\n",
              "    }\n",
              "    20% {\n",
              "      border-color: transparent;\n",
              "      border-left-color: var(--fill-color);\n",
              "      border-top-color: var(--fill-color);\n",
              "    }\n",
              "    30% {\n",
              "      border-color: transparent;\n",
              "      border-left-color: var(--fill-color);\n",
              "      border-top-color: var(--fill-color);\n",
              "      border-right-color: var(--fill-color);\n",
              "    }\n",
              "    40% {\n",
              "      border-color: transparent;\n",
              "      border-right-color: var(--fill-color);\n",
              "      border-top-color: var(--fill-color);\n",
              "    }\n",
              "    60% {\n",
              "      border-color: transparent;\n",
              "      border-right-color: var(--fill-color);\n",
              "    }\n",
              "    80% {\n",
              "      border-color: transparent;\n",
              "      border-right-color: var(--fill-color);\n",
              "      border-bottom-color: var(--fill-color);\n",
              "    }\n",
              "    90% {\n",
              "      border-color: transparent;\n",
              "      border-bottom-color: var(--fill-color);\n",
              "    }\n",
              "  }\n",
              "</style>\n",
              "\n",
              "  <script>\n",
              "    async function quickchart(key) {\n",
              "      const quickchartButtonEl =\n",
              "        document.querySelector('#' + key + ' button');\n",
              "      quickchartButtonEl.disabled = true;  // To prevent multiple clicks.\n",
              "      quickchartButtonEl.classList.add('colab-df-spinner');\n",
              "      try {\n",
              "        const charts = await google.colab.kernel.invokeFunction(\n",
              "            'suggestCharts', [key], {});\n",
              "      } catch (error) {\n",
              "        console.error('Error during call to suggestCharts:', error);\n",
              "      }\n",
              "      quickchartButtonEl.classList.remove('colab-df-spinner');\n",
              "      quickchartButtonEl.classList.add('colab-df-quickchart-complete');\n",
              "    }\n",
              "    (() => {\n",
              "      let quickchartButtonEl =\n",
              "        document.querySelector('#df-24cc1b9c-5584-454a-a182-4ad26547613a button');\n",
              "      quickchartButtonEl.style.display =\n",
              "        google.colab.kernel.accessAllowed ? 'block' : 'none';\n",
              "    })();\n",
              "  </script>\n",
              "</div>\n",
              "    </div>\n",
              "  </div>\n"
            ]
          },
          "metadata": {},
          "execution_count": 3
        }
      ],
      "source": [
        "df3 = pd.read_csv('samba_commerce_payment.csv')\n",
        "\n",
        "# Lakukan inner join berdasarkan kolom 'id'\n",
        "df = pd.merge(result_df, df3, on='order_id', how='inner')\n",
        "\n",
        "# Tampilkan hasil inner join\n",
        "df.head()"
      ]
    },
    {
      "cell_type": "markdown",
      "source": [
        "Tabel:\n",
        "\n",
        "1. order_id = id order dari setiap pembelian.\n",
        "2. order_purchase_timestamp = waktu customer membeli barang.\n",
        "3. order_approved_at = waktu atau tanggal ketika pesanan dari pelanggan disetujui oleh sistem atau pihak penjual.\n",
        "4. seller_dispatch_time = waktu seller untuk mengirimkan atau mengirimkan produk setelah menerima pesanan dari pembeli.\n",
        "5. customer_delivery_time = waktu yang diperlukan untuk mengirimkan atau mengantarkan produk dari penjual kepada pelanggan setelah pesanan disetujui dan diproses.\n",
        "6. customer_id = id customer.\n",
        "7.  order_status = status pengiriman barang ke pelanggan.\n",
        "8. customer_city = kota customer dinegara brazil.\n",
        "9. customer_state = lokasi geografis customer.\n",
        "10. product_id = id dari setiap product.\n",
        "11. seller_id = id dari setiap seller atau penjual.\n",
        "12. price = harga dari 1 produk.\n",
        "13. product_category_name = category dari product commerce.\n",
        "14. qty_item = jumlah barang yang dipesan dari sekali order.\n",
        "15. payment_type = tipe pembayaran nasabah.\n",
        "16. payment_installment = proses pencicilan dari setiap customer.\n",
        "17. total_payment_value = total yang dibayarkan."
      ],
      "metadata": {
        "id": "VnWMRetXro3D"
      }
    },
    {
      "cell_type": "markdown",
      "source": [
        "**checking missing value**"
      ],
      "metadata": {
        "id": "GWYbBm2fvvs0"
      }
    },
    {
      "cell_type": "code",
      "source": [
        "df.isnull().sum()"
      ],
      "metadata": {
        "id": "C014gDjlvnok",
        "colab": {
          "base_uri": "https://localhost:8080/"
        },
        "outputId": "1480aeab-6c86-4ba7-b68b-eae5513bcda4"
      },
      "execution_count": 4,
      "outputs": [
        {
          "output_type": "execute_result",
          "data": {
            "text/plain": [
              "order_id                    0\n",
              "order_purchase_timestamp    0\n",
              "order_approved_at           0\n",
              "seller_dispatch_time        0\n",
              "customer_delivery_time      0\n",
              "customer id                 0\n",
              "order_status                0\n",
              "customer_city               0\n",
              "customer_state              0\n",
              "product_id                  0\n",
              "seller_id                   0\n",
              "price                       0\n",
              "product_category_name       0\n",
              "qty_item                    0\n",
              "payment_type                0\n",
              "payment_installments        0\n",
              "total_payment_value         0\n",
              "dtype: int64"
            ]
          },
          "metadata": {},
          "execution_count": 4
        }
      ]
    },
    {
      "cell_type": "markdown",
      "source": [
        "**checking duplicated**"
      ],
      "metadata": {
        "id": "WaZqcQ0Bv7Cm"
      }
    },
    {
      "cell_type": "code",
      "source": [
        "df.duplicated().sum()"
      ],
      "metadata": {
        "id": "_XV8iPKIvvS0",
        "colab": {
          "base_uri": "https://localhost:8080/"
        },
        "outputId": "e29445dc-2be4-434d-b459-bd0edfb43903"
      },
      "execution_count": 5,
      "outputs": [
        {
          "output_type": "execute_result",
          "data": {
            "text/plain": [
              "0"
            ]
          },
          "metadata": {},
          "execution_count": 5
        }
      ]
    },
    {
      "cell_type": "markdown",
      "source": [
        "**checking data type**"
      ],
      "metadata": {
        "id": "gMTpFbvJwD1H"
      }
    },
    {
      "cell_type": "code",
      "source": [
        "df.dtypes"
      ],
      "metadata": {
        "id": "fRV5gTJVwH0L",
        "colab": {
          "base_uri": "https://localhost:8080/"
        },
        "outputId": "299dcd47-da4e-48b9-b96f-125f07c3ec05"
      },
      "execution_count": 6,
      "outputs": [
        {
          "output_type": "execute_result",
          "data": {
            "text/plain": [
              "order_id                    object\n",
              "order_purchase_timestamp    object\n",
              "order_approved_at           object\n",
              "seller_dispatch_time        object\n",
              "customer_delivery_time      object\n",
              "customer id                 object\n",
              "order_status                object\n",
              "customer_city               object\n",
              "customer_state              object\n",
              "product_id                  object\n",
              "seller_id                   object\n",
              "price                       object\n",
              "product_category_name       object\n",
              "qty_item                     int64\n",
              "payment_type                object\n",
              "payment_installments         int64\n",
              "total_payment_value         object\n",
              "dtype: object"
            ]
          },
          "metadata": {},
          "execution_count": 6
        }
      ]
    },
    {
      "cell_type": "markdown",
      "source": [
        "terdapat beberapa kolom yang tidak sesuai dan harus diperbaiki yakni:\n",
        "\n",
        "*   order_purchase_timestamp, order_approved_at kita ubah menjadi datetime\n",
        "*   price, total_payment_value kita ubah menjadi float64\n",
        "\n"
      ],
      "metadata": {
        "id": "JT_HNVWLwT8p"
      }
    },
    {
      "cell_type": "code",
      "source": [
        "df['order_purchase_timestamp'] = pd.to_datetime(df['order_purchase_timestamp'], format='%d/%m/%Y %H:%M')\n",
        "df['order_approved_at'] = pd.to_datetime(df['order_approved_at'], format='%d/%m/%Y %H:%M')\n"
      ],
      "metadata": {
        "id": "5FEsbc8xxi9p"
      },
      "execution_count": 7,
      "outputs": []
    },
    {
      "cell_type": "code",
      "source": [
        "df['price'] = pd.to_numeric(df['price'], errors='coerce')\n",
        "df['total_payment_value'] = pd.to_numeric(df['total_payment_value'], errors='coerce')\n",
        "\n",
        "# Menampilkan DataFrame setelah perubahan\n",
        "df.info()"
      ],
      "metadata": {
        "id": "4PyQWxXBxq9B",
        "colab": {
          "base_uri": "https://localhost:8080/"
        },
        "outputId": "dcbe9afa-eec1-4736-8815-0d47b7d7ee82"
      },
      "execution_count": 8,
      "outputs": [
        {
          "output_type": "stream",
          "name": "stdout",
          "text": [
            "<class 'pandas.core.frame.DataFrame'>\n",
            "Int64Index: 49544 entries, 0 to 49543\n",
            "Data columns (total 17 columns):\n",
            " #   Column                    Non-Null Count  Dtype         \n",
            "---  ------                    --------------  -----         \n",
            " 0   order_id                  49544 non-null  object        \n",
            " 1   order_purchase_timestamp  49544 non-null  datetime64[ns]\n",
            " 2   order_approved_at         49544 non-null  datetime64[ns]\n",
            " 3   seller_dispatch_time      49544 non-null  object        \n",
            " 4   customer_delivery_time    49544 non-null  object        \n",
            " 5   customer id               49544 non-null  object        \n",
            " 6   order_status              49544 non-null  object        \n",
            " 7   customer_city             49544 non-null  object        \n",
            " 8   customer_state            49544 non-null  object        \n",
            " 9   product_id                49544 non-null  object        \n",
            " 10  seller_id                 49544 non-null  object        \n",
            " 11  price                     49543 non-null  float64       \n",
            " 12  product_category_name     49544 non-null  object        \n",
            " 13  qty_item                  49544 non-null  int64         \n",
            " 14  payment_type              49544 non-null  object        \n",
            " 15  payment_installments      49544 non-null  int64         \n",
            " 16  total_payment_value       48830 non-null  float64       \n",
            "dtypes: datetime64[ns](2), float64(2), int64(2), object(11)\n",
            "memory usage: 6.8+ MB\n"
          ]
        }
      ]
    },
    {
      "cell_type": "code",
      "source": [
        "df = df.rename(columns={'customer id': 'customer_id'})"
      ],
      "metadata": {
        "id": "JScBmYvltdCk"
      },
      "execution_count": 9,
      "outputs": []
    },
    {
      "cell_type": "code",
      "source": [
        "df.describe()"
      ],
      "metadata": {
        "id": "l3jmGxlDx4M7",
        "colab": {
          "base_uri": "https://localhost:8080/",
          "height": 300
        },
        "outputId": "61ce009a-13ae-43e5-fd62-ceb675dcf52a"
      },
      "execution_count": 10,
      "outputs": [
        {
          "output_type": "execute_result",
          "data": {
            "text/plain": [
              "              price      qty_item  payment_installments  total_payment_value\n",
              "count  49543.000000  49544.000000          49544.000000         48830.000000\n",
              "mean     124.640217      1.140663              3.045979           142.035886\n",
              "std      188.440165      0.532509              2.811963           136.219606\n",
              "min        2.290000      1.000000              1.000000          -953.510000\n",
              "25%       41.490000      1.000000              1.000000            61.460000\n",
              "50%       78.970000      1.000000              2.000000           102.640000\n",
              "75%      139.900000      1.000000              4.000000           171.797500\n",
              "max     6735.000000     21.000000             24.000000           999.680000"
            ],
            "text/html": [
              "\n",
              "  <div id=\"df-796331a5-759b-4da1-89d8-c697a60b6283\" class=\"colab-df-container\">\n",
              "    <div>\n",
              "<style scoped>\n",
              "    .dataframe tbody tr th:only-of-type {\n",
              "        vertical-align: middle;\n",
              "    }\n",
              "\n",
              "    .dataframe tbody tr th {\n",
              "        vertical-align: top;\n",
              "    }\n",
              "\n",
              "    .dataframe thead th {\n",
              "        text-align: right;\n",
              "    }\n",
              "</style>\n",
              "<table border=\"1\" class=\"dataframe\">\n",
              "  <thead>\n",
              "    <tr style=\"text-align: right;\">\n",
              "      <th></th>\n",
              "      <th>price</th>\n",
              "      <th>qty_item</th>\n",
              "      <th>payment_installments</th>\n",
              "      <th>total_payment_value</th>\n",
              "    </tr>\n",
              "  </thead>\n",
              "  <tbody>\n",
              "    <tr>\n",
              "      <th>count</th>\n",
              "      <td>49543.000000</td>\n",
              "      <td>49544.000000</td>\n",
              "      <td>49544.000000</td>\n",
              "      <td>48830.000000</td>\n",
              "    </tr>\n",
              "    <tr>\n",
              "      <th>mean</th>\n",
              "      <td>124.640217</td>\n",
              "      <td>1.140663</td>\n",
              "      <td>3.045979</td>\n",
              "      <td>142.035886</td>\n",
              "    </tr>\n",
              "    <tr>\n",
              "      <th>std</th>\n",
              "      <td>188.440165</td>\n",
              "      <td>0.532509</td>\n",
              "      <td>2.811963</td>\n",
              "      <td>136.219606</td>\n",
              "    </tr>\n",
              "    <tr>\n",
              "      <th>min</th>\n",
              "      <td>2.290000</td>\n",
              "      <td>1.000000</td>\n",
              "      <td>1.000000</td>\n",
              "      <td>-953.510000</td>\n",
              "    </tr>\n",
              "    <tr>\n",
              "      <th>25%</th>\n",
              "      <td>41.490000</td>\n",
              "      <td>1.000000</td>\n",
              "      <td>1.000000</td>\n",
              "      <td>61.460000</td>\n",
              "    </tr>\n",
              "    <tr>\n",
              "      <th>50%</th>\n",
              "      <td>78.970000</td>\n",
              "      <td>1.000000</td>\n",
              "      <td>2.000000</td>\n",
              "      <td>102.640000</td>\n",
              "    </tr>\n",
              "    <tr>\n",
              "      <th>75%</th>\n",
              "      <td>139.900000</td>\n",
              "      <td>1.000000</td>\n",
              "      <td>4.000000</td>\n",
              "      <td>171.797500</td>\n",
              "    </tr>\n",
              "    <tr>\n",
              "      <th>max</th>\n",
              "      <td>6735.000000</td>\n",
              "      <td>21.000000</td>\n",
              "      <td>24.000000</td>\n",
              "      <td>999.680000</td>\n",
              "    </tr>\n",
              "  </tbody>\n",
              "</table>\n",
              "</div>\n",
              "    <div class=\"colab-df-buttons\">\n",
              "\n",
              "  <div class=\"colab-df-container\">\n",
              "    <button class=\"colab-df-convert\" onclick=\"convertToInteractive('df-796331a5-759b-4da1-89d8-c697a60b6283')\"\n",
              "            title=\"Convert this dataframe to an interactive table.\"\n",
              "            style=\"display:none;\">\n",
              "\n",
              "  <svg xmlns=\"http://www.w3.org/2000/svg\" height=\"24px\" viewBox=\"0 -960 960 960\">\n",
              "    <path d=\"M120-120v-720h720v720H120Zm60-500h600v-160H180v160Zm220 220h160v-160H400v160Zm0 220h160v-160H400v160ZM180-400h160v-160H180v160Zm440 0h160v-160H620v160ZM180-180h160v-160H180v160Zm440 0h160v-160H620v160Z\"/>\n",
              "  </svg>\n",
              "    </button>\n",
              "\n",
              "  <style>\n",
              "    .colab-df-container {\n",
              "      display:flex;\n",
              "      gap: 12px;\n",
              "    }\n",
              "\n",
              "    .colab-df-convert {\n",
              "      background-color: #E8F0FE;\n",
              "      border: none;\n",
              "      border-radius: 50%;\n",
              "      cursor: pointer;\n",
              "      display: none;\n",
              "      fill: #1967D2;\n",
              "      height: 32px;\n",
              "      padding: 0 0 0 0;\n",
              "      width: 32px;\n",
              "    }\n",
              "\n",
              "    .colab-df-convert:hover {\n",
              "      background-color: #E2EBFA;\n",
              "      box-shadow: 0px 1px 2px rgba(60, 64, 67, 0.3), 0px 1px 3px 1px rgba(60, 64, 67, 0.15);\n",
              "      fill: #174EA6;\n",
              "    }\n",
              "\n",
              "    .colab-df-buttons div {\n",
              "      margin-bottom: 4px;\n",
              "    }\n",
              "\n",
              "    [theme=dark] .colab-df-convert {\n",
              "      background-color: #3B4455;\n",
              "      fill: #D2E3FC;\n",
              "    }\n",
              "\n",
              "    [theme=dark] .colab-df-convert:hover {\n",
              "      background-color: #434B5C;\n",
              "      box-shadow: 0px 1px 3px 1px rgba(0, 0, 0, 0.15);\n",
              "      filter: drop-shadow(0px 1px 2px rgba(0, 0, 0, 0.3));\n",
              "      fill: #FFFFFF;\n",
              "    }\n",
              "  </style>\n",
              "\n",
              "    <script>\n",
              "      const buttonEl =\n",
              "        document.querySelector('#df-796331a5-759b-4da1-89d8-c697a60b6283 button.colab-df-convert');\n",
              "      buttonEl.style.display =\n",
              "        google.colab.kernel.accessAllowed ? 'block' : 'none';\n",
              "\n",
              "      async function convertToInteractive(key) {\n",
              "        const element = document.querySelector('#df-796331a5-759b-4da1-89d8-c697a60b6283');\n",
              "        const dataTable =\n",
              "          await google.colab.kernel.invokeFunction('convertToInteractive',\n",
              "                                                    [key], {});\n",
              "        if (!dataTable) return;\n",
              "\n",
              "        const docLinkHtml = 'Like what you see? Visit the ' +\n",
              "          '<a target=\"_blank\" href=https://colab.research.google.com/notebooks/data_table.ipynb>data table notebook</a>'\n",
              "          + ' to learn more about interactive tables.';\n",
              "        element.innerHTML = '';\n",
              "        dataTable['output_type'] = 'display_data';\n",
              "        await google.colab.output.renderOutput(dataTable, element);\n",
              "        const docLink = document.createElement('div');\n",
              "        docLink.innerHTML = docLinkHtml;\n",
              "        element.appendChild(docLink);\n",
              "      }\n",
              "    </script>\n",
              "  </div>\n",
              "\n",
              "\n",
              "<div id=\"df-4f304a21-a1ea-4260-abfa-56bf61a266fa\">\n",
              "  <button class=\"colab-df-quickchart\" onclick=\"quickchart('df-4f304a21-a1ea-4260-abfa-56bf61a266fa')\"\n",
              "            title=\"Suggest charts\"\n",
              "            style=\"display:none;\">\n",
              "\n",
              "<svg xmlns=\"http://www.w3.org/2000/svg\" height=\"24px\"viewBox=\"0 0 24 24\"\n",
              "     width=\"24px\">\n",
              "    <g>\n",
              "        <path d=\"M19 3H5c-1.1 0-2 .9-2 2v14c0 1.1.9 2 2 2h14c1.1 0 2-.9 2-2V5c0-1.1-.9-2-2-2zM9 17H7v-7h2v7zm4 0h-2V7h2v10zm4 0h-2v-4h2v4z\"/>\n",
              "    </g>\n",
              "</svg>\n",
              "  </button>\n",
              "\n",
              "<style>\n",
              "  .colab-df-quickchart {\n",
              "      --bg-color: #E8F0FE;\n",
              "      --fill-color: #1967D2;\n",
              "      --hover-bg-color: #E2EBFA;\n",
              "      --hover-fill-color: #174EA6;\n",
              "      --disabled-fill-color: #AAA;\n",
              "      --disabled-bg-color: #DDD;\n",
              "  }\n",
              "\n",
              "  [theme=dark] .colab-df-quickchart {\n",
              "      --bg-color: #3B4455;\n",
              "      --fill-color: #D2E3FC;\n",
              "      --hover-bg-color: #434B5C;\n",
              "      --hover-fill-color: #FFFFFF;\n",
              "      --disabled-bg-color: #3B4455;\n",
              "      --disabled-fill-color: #666;\n",
              "  }\n",
              "\n",
              "  .colab-df-quickchart {\n",
              "    background-color: var(--bg-color);\n",
              "    border: none;\n",
              "    border-radius: 50%;\n",
              "    cursor: pointer;\n",
              "    display: none;\n",
              "    fill: var(--fill-color);\n",
              "    height: 32px;\n",
              "    padding: 0;\n",
              "    width: 32px;\n",
              "  }\n",
              "\n",
              "  .colab-df-quickchart:hover {\n",
              "    background-color: var(--hover-bg-color);\n",
              "    box-shadow: 0 1px 2px rgba(60, 64, 67, 0.3), 0 1px 3px 1px rgba(60, 64, 67, 0.15);\n",
              "    fill: var(--button-hover-fill-color);\n",
              "  }\n",
              "\n",
              "  .colab-df-quickchart-complete:disabled,\n",
              "  .colab-df-quickchart-complete:disabled:hover {\n",
              "    background-color: var(--disabled-bg-color);\n",
              "    fill: var(--disabled-fill-color);\n",
              "    box-shadow: none;\n",
              "  }\n",
              "\n",
              "  .colab-df-spinner {\n",
              "    border: 2px solid var(--fill-color);\n",
              "    border-color: transparent;\n",
              "    border-bottom-color: var(--fill-color);\n",
              "    animation:\n",
              "      spin 1s steps(1) infinite;\n",
              "  }\n",
              "\n",
              "  @keyframes spin {\n",
              "    0% {\n",
              "      border-color: transparent;\n",
              "      border-bottom-color: var(--fill-color);\n",
              "      border-left-color: var(--fill-color);\n",
              "    }\n",
              "    20% {\n",
              "      border-color: transparent;\n",
              "      border-left-color: var(--fill-color);\n",
              "      border-top-color: var(--fill-color);\n",
              "    }\n",
              "    30% {\n",
              "      border-color: transparent;\n",
              "      border-left-color: var(--fill-color);\n",
              "      border-top-color: var(--fill-color);\n",
              "      border-right-color: var(--fill-color);\n",
              "    }\n",
              "    40% {\n",
              "      border-color: transparent;\n",
              "      border-right-color: var(--fill-color);\n",
              "      border-top-color: var(--fill-color);\n",
              "    }\n",
              "    60% {\n",
              "      border-color: transparent;\n",
              "      border-right-color: var(--fill-color);\n",
              "    }\n",
              "    80% {\n",
              "      border-color: transparent;\n",
              "      border-right-color: var(--fill-color);\n",
              "      border-bottom-color: var(--fill-color);\n",
              "    }\n",
              "    90% {\n",
              "      border-color: transparent;\n",
              "      border-bottom-color: var(--fill-color);\n",
              "    }\n",
              "  }\n",
              "</style>\n",
              "\n",
              "  <script>\n",
              "    async function quickchart(key) {\n",
              "      const quickchartButtonEl =\n",
              "        document.querySelector('#' + key + ' button');\n",
              "      quickchartButtonEl.disabled = true;  // To prevent multiple clicks.\n",
              "      quickchartButtonEl.classList.add('colab-df-spinner');\n",
              "      try {\n",
              "        const charts = await google.colab.kernel.invokeFunction(\n",
              "            'suggestCharts', [key], {});\n",
              "      } catch (error) {\n",
              "        console.error('Error during call to suggestCharts:', error);\n",
              "      }\n",
              "      quickchartButtonEl.classList.remove('colab-df-spinner');\n",
              "      quickchartButtonEl.classList.add('colab-df-quickchart-complete');\n",
              "    }\n",
              "    (() => {\n",
              "      let quickchartButtonEl =\n",
              "        document.querySelector('#df-4f304a21-a1ea-4260-abfa-56bf61a266fa button');\n",
              "      quickchartButtonEl.style.display =\n",
              "        google.colab.kernel.accessAllowed ? 'block' : 'none';\n",
              "    })();\n",
              "  </script>\n",
              "</div>\n",
              "    </div>\n",
              "  </div>\n"
            ]
          },
          "metadata": {},
          "execution_count": 10
        }
      ]
    },
    {
      "cell_type": "markdown",
      "source": [
        "terdapat nilai minus pada total payment value, terdapat outlier pada kolom price tapi hal ini mungkin saja suatu barang memiliki nilai yang sangat mahal."
      ],
      "metadata": {
        "id": "4updQPDGyH7_"
      }
    },
    {
      "cell_type": "code",
      "source": [
        "df['total_payment_value'] = df['total_payment_value'].abs()"
      ],
      "metadata": {
        "id": "nLCyxA78zHiX"
      },
      "execution_count": 11,
      "outputs": []
    },
    {
      "cell_type": "markdown",
      "source": [
        "# **Insight**\n",
        "\n",
        "menghitung jumlah total order, total customer, dan total seller dari samba commerce data"
      ],
      "metadata": {
        "id": "OoYkevvJqym9"
      }
    },
    {
      "cell_type": "code",
      "source": [
        "jumlah_order_id_unique = df['order_id'].nunique()\n",
        "jumlah_customer_id_unique = df['customer_id'].nunique()\n",
        "jumlah_seller_id_unique = df['seller_id'].nunique()\n",
        "jumlah_product_unique = df['product_category_name'].nunique()\n",
        "rata_rata_qty_item = df['qty_item'].mean()\n",
        "\n",
        "\n",
        "\n",
        "# Menampilkan hasil\n",
        "print(f\"Jumlah data order_id yang unique: {jumlah_order_id_unique}\")\n",
        "print(f\"Jumlah data customer_id yang unique: {jumlah_customer_id_unique}\")\n",
        "print(f\"Jumlah data seller_id yang unique: {jumlah_seller_id_unique}\")\n",
        "print(f\"Jumlah data product_category_name yang unique: {jumlah_product_unique}\")\n",
        "print(f\"Jumlah rata rata item yang dibeli: {rata_rata_qty_item}\")"
      ],
      "metadata": {
        "id": "sJPstzTsqxnI",
        "colab": {
          "base_uri": "https://localhost:8080/"
        },
        "outputId": "db0975c3-e2a9-4227-ee52-a6308e85bd2d"
      },
      "execution_count": 12,
      "outputs": [
        {
          "output_type": "stream",
          "name": "stdout",
          "text": [
            "Jumlah data order_id yang unique: 49544\n",
            "Jumlah data customer_id yang unique: 48022\n",
            "Jumlah data seller_id yang unique: 1771\n",
            "Jumlah data product_category_name yang unique: 72\n",
            "Jumlah rata rata item yang dibeli: 1.1406628451477474\n"
          ]
        }
      ]
    },
    {
      "cell_type": "markdown",
      "source": [
        "sepanjang periode januaru 2021 - januari 2022 samba commerce beroperasi, terdapat 49544 total pesanan, 48022 total customer, dan 1771 total seller. Jumlah rata-rata customer samba commerce membeli 1 barang."
      ],
      "metadata": {
        "id": "vifpXjNwtkJ1"
      }
    },
    {
      "cell_type": "code",
      "source": [
        "import matplotlib.pyplot as plt\n",
        "\n",
        "# Konversi format tanggal\n",
        "df['order_purchase_timestamp'] = pd.to_datetime(df['order_purchase_timestamp'], format='%m %Y')\n",
        "\n",
        "# Hitung jumlah order_id setiap order_purchase_timestamp\n",
        "monthly_orders = df.groupby(df['order_purchase_timestamp'].dt.to_period(\"M\")).size()\n",
        "\n",
        "# Plot time-series\n",
        "plt.figure(figsize=(10, 5))\n",
        "monthly_orders.plot(marker='o', linestyle='-')\n",
        "plt.title('Jumlah Order per order_purchase_timestamp')\n",
        "plt.xlabel('order_purchase_timestamp')\n",
        "plt.ylabel('Jumlah Order')\n",
        "plt.show()"
      ],
      "metadata": {
        "id": "V5aC16B8vrYH",
        "colab": {
          "base_uri": "https://localhost:8080/",
          "height": 503
        },
        "outputId": "6d273466-8866-4df4-f690-e59f5d359b16"
      },
      "execution_count": 13,
      "outputs": [
        {
          "output_type": "display_data",
          "data": {
            "text/plain": [
              "<Figure size 1000x500 with 1 Axes>"
            ],
            "image/png": "[encoded data removed]"
          },
          "metadata": {}
        }
      ]
    },
    {
      "cell_type": "markdown",
      "source": [
        "grafik menunjukan trend yang bagus, samba commerce medapatkan order yang signifikan terjadi pada bulan november.\n",
        "\n",
        "Apa yang terjadi pada bulan itu?"
      ],
      "metadata": {
        "id": "sf4nQeGMwJhW"
      }
    },
    {
      "cell_type": "code",
      "source": [
        "df['order_purchase_timestamp'] = pd.to_datetime(df['order_purchase_timestamp'], format='%m %Y')\n",
        "\n",
        "# Hitung jumlah order_id setiap order_purchase_timestamp\n",
        "monthly = df.groupby(df['order_purchase_timestamp'].dt.to_period(\"M\"))['product_category_name'].nunique()\n",
        "\n",
        "# Menampilkan hasil\n",
        "print(monthly)"
      ],
      "metadata": {
        "id": "BvCYUACvxKXP",
        "colab": {
          "base_uri": "https://localhost:8080/"
        },
        "outputId": "cc328ca8-237b-446e-a5c6-963ba7ae47f3"
      },
      "execution_count": 14,
      "outputs": [
        {
          "output_type": "stream",
          "name": "stdout",
          "text": [
            "order_purchase_timestamp\n",
            "2021-01    42\n",
            "2021-02    49\n",
            "2021-03    52\n",
            "2021-04    56\n",
            "2021-05    59\n",
            "2021-06    60\n",
            "2021-07    61\n",
            "2021-08    62\n",
            "2021-09    65\n",
            "2021-10    63\n",
            "2021-11    64\n",
            "2021-12    62\n",
            "2022-01    66\n",
            "Freq: M, Name: product_category_name, dtype: int64\n"
          ]
        }
      ]
    },
    {
      "cell_type": "code",
      "source": [
        "df['order_purchase_timestamp'] = pd.to_datetime(df['order_purchase_timestamp'], format='%m %Y')\n",
        "\n",
        "# Hitung jumlah order_id setiap order_purchase_timestamp\n",
        "monthly = df.groupby(df['order_purchase_timestamp'].dt.to_period(\"M\"))['customer_city'].nunique()\n",
        "\n",
        "# Menampilkan hasil\n",
        "print(monthly)"
      ],
      "metadata": {
        "id": "CBMrbP6Z6kQB",
        "colab": {
          "base_uri": "https://localhost:8080/"
        },
        "outputId": "f852220f-c441-4d72-85ba-634a1171cc23"
      },
      "execution_count": 15,
      "outputs": [
        {
          "output_type": "stream",
          "name": "stdout",
          "text": [
            "order_purchase_timestamp\n",
            "2021-01     355\n",
            "2021-02     599\n",
            "2021-03     768\n",
            "2021-04     753\n",
            "2021-05     957\n",
            "2021-06     872\n",
            "2021-07     981\n",
            "2021-08    1005\n",
            "2021-09    1062\n",
            "2021-10    1044\n",
            "2021-11    1383\n",
            "2021-12    1125\n",
            "2022-01    1366\n",
            "Freq: M, Name: customer_city, dtype: int64\n"
          ]
        }
      ]
    },
    {
      "cell_type": "code",
      "source": [
        "df['order_purchase_timestamp'] = pd.to_datetime(df['order_purchase_timestamp'], format='%m %Y')\n",
        "\n",
        "# Hitung jumlah order_id setiap order_purchase_timestamp\n",
        "monthly = df.groupby(df['order_purchase_timestamp'].dt.to_period(\"M\"))['customer_state'].nunique()\n",
        "\n",
        "# Menampilkan hasil\n",
        "print(monthly)"
      ],
      "metadata": {
        "id": "74PJ292U60t3",
        "colab": {
          "base_uri": "https://localhost:8080/"
        },
        "outputId": "292efe32-b3b7-44c9-db9a-df607297d9a5"
      },
      "execution_count": 16,
      "outputs": [
        {
          "output_type": "stream",
          "name": "stdout",
          "text": [
            "order_purchase_timestamp\n",
            "2021-01    24\n",
            "2021-02    27\n",
            "2021-03    27\n",
            "2021-04    26\n",
            "2021-05    27\n",
            "2021-06    27\n",
            "2021-07    27\n",
            "2021-08    26\n",
            "2021-09    27\n",
            "2021-10    27\n",
            "2021-11    27\n",
            "2021-12    26\n",
            "2022-01    27\n",
            "Freq: M, Name: customer_state, dtype: int64\n"
          ]
        }
      ]
    },
    {
      "cell_type": "markdown",
      "source": [
        "didapatkan alasan kenaikan pesanan terjadi karena samba commerce mendapatkan customer_city yang bertambah, pada bulan oktober terdapat 1044 dan bulan november terdapat 1383 kenaikan yang dialami sebanyak 339 customer.\n",
        "\n",
        "**TOP 10 STATE**"
      ],
      "metadata": {
        "id": "96Kv-DQt67qU"
      }
    },
    {
      "cell_type": "code",
      "source": [
        "import seaborn as sns\n",
        "\n",
        "# Mengelompokkan data berdasarkan kota dan menghitung jumlah item dan banyaknya setiap kota\n",
        "res = df.groupby('customer_city')['qty_item'].agg(['sum', 'count']).reset_index()\n",
        "\n",
        "# Menambahkan kolom 'avg_qty_item' yang berisi jumlah item dibagi banyaknya setiap kota\n",
        "res['avg_qty_item'] = res['sum'] / res['count']\n",
        "\n",
        "# Mengurutkan hasil berdasarkan kolom 'avg_qty_item' secara descending\n",
        "res_sorted = res.sort_values(by='avg_qty_item', ascending=False)\n",
        "\n",
        "plt.figure(figsize=(10, 6))\n",
        "sns.barplot(x='customer_city', y='avg_qty_item', data=res_sorted.head(10), palette='viridis')\n",
        "\n",
        "# Menambahkan label dan judul\n",
        "plt.xlabel('Kota')\n",
        "plt.ylabel('Rata-rata Qty Item')\n",
        "plt.xticks(rotation=45, ha='right')  # Rotasi label kota agar lebih mudah dibaca\n",
        "plt.title('Rata-rata Qty Item dari Setiap Kota (Diurutkan)')\n",
        "\n",
        "# Menampilkan plot\n",
        "plt.show()\n"
      ],
      "metadata": {
        "id": "GYiNB78o7yhO",
        "colab": {
          "base_uri": "https://localhost:8080/",
          "height": 783
        },
        "outputId": "ee581f6d-b521-4762-a2e3-cb930bf5d781"
      },
      "execution_count": 17,
      "outputs": [
        {
          "output_type": "stream",
          "name": "stderr",
          "text": [
            "<ipython-input-17-abf687a9c91d>:13: FutureWarning: \n",
            "\n",
            "Passing `palette` without assigning `hue` is deprecated and will be removed in v0.14.0. Assign the `x` variable to `hue` and set `legend=False` for the same effect.\n",
            "\n",
            "  sns.barplot(x='customer_city', y='avg_qty_item', data=res_sorted.head(10), palette='viridis')\n"
          ]
        },
        {
          "output_type": "display_data",
          "data": {
            "text/plain": [
              "<Figure size 1000x600 with 1 Axes>"
            ],
            "image/png": "[encoded data removed]"
          },
          "metadata": {}
        }
      ]
    },
    {
      "cell_type": "markdown",
      "source": [
        "samba commerce mendapatkan rata-rata jumlah barang yang dibeli customer terbanyak terdapat pada incofidentes dan ubajara yakni sebanyak 6 barang sekali order."
      ],
      "metadata": {
        "id": "3tRtdF3i86lf"
      }
    },
    {
      "cell_type": "code",
      "source": [
        "# Menghitung jumlah order untuk setiap kota\n",
        "state_counts = df['customer_state'].value_counts()\n",
        "\n",
        "# Memilih 5 kota terbanyak\n",
        "top_cities = state_counts.head(5).index\n",
        "\n",
        "# Filter DataFrame untuk hanya memuat 5 kota terbanyak\n",
        "df_filtered = df[df['customer_state'].isin(top_cities)]\n",
        "\n",
        "# Membuat countplot\n",
        "plt.figure(figsize=(12, 6))\n",
        "sns.countplot(x='customer_state', data=df_filtered, palette='viridis', order=top_cities)\n",
        "\n",
        "# Menambahkan label dan judul\n",
        "plt.xlabel('customer_state')\n",
        "plt.ylabel('Jumlah Order_id')\n",
        "plt.title('Top 5 state dengan Jumlah Order_id Tertinggi')\n",
        "\n",
        "# Menampilkan plot\n",
        "plt.xticks(rotation=45, ha='right')  # Rotasi label kota agar lebih mudah dibaca\n",
        "plt.tight_layout()  # Mengatur layout agar tidak tumpang tindih\n",
        "plt.show()\n",
        "\n",
        "jumlah_order_sp = df[df['customer_state'] == 'SP']['order_id'].nunique()\n",
        "\n",
        "print(f\"Jumlah banyaknya order sau paulo: {jumlah_order_sp}\")\n",
        "\n",
        "presentase_order = (jumlah_order_sp/jumlah_order_id_unique)*100\n",
        "\n",
        "print(f\"Jumlah banyaknya order sau paulo: {presentase_order} %\")"
      ],
      "metadata": {
        "id": "zlGP4HWb9PKe",
        "colab": {
          "base_uri": "https://localhost:8080/",
          "height": 625
        },
        "outputId": "b8f0efe6-dba3-43f3-c1d1-83075c5204d9"
      },
      "execution_count": 18,
      "outputs": [
        {
          "output_type": "stream",
          "name": "stderr",
          "text": [
            "<ipython-input-18-0274164e4a4a>:12: FutureWarning: \n",
            "\n",
            "Passing `palette` without assigning `hue` is deprecated and will be removed in v0.14.0. Assign the `x` variable to `hue` and set `legend=False` for the same effect.\n",
            "\n",
            "  sns.countplot(x='customer_state', data=df_filtered, palette='viridis', order=top_cities)\n"
          ]
        },
        {
          "output_type": "display_data",
          "data": {
            "text/plain": [
              "<Figure size 1200x600 with 1 Axes>"
            ],
            "image/png": "[encoded data removed]"
          },
          "metadata": {}
        },
        {
          "output_type": "stream",
          "name": "stdout",
          "text": [
            "Jumlah banyaknya order sau paulo: 19648\n",
            "Jumlah banyaknya order sau paulo: 39.657678023575 %\n"
          ]
        }
      ]
    },
    {
      "cell_type": "markdown",
      "source": [
        "jumlah order terbanyak terdapat pada state sao paulo diikuti rio de janeiro dengan perbedaan order sekitar 13.500 order, kota-kota di sau paulo juga yang memiliki jumlah order terbanyak akan tetapi rata-rata customer setiap order yakni 1 barang. Dari data ini samba commerce menerima profit dari order customer di negara bagian sau paulo dengan memperoleh 39.65% order dari keseluruhan order samba commerce dari periode januari 2021 hingga januari 2022."
      ],
      "metadata": {
        "id": "YBDYZwT6CMp9"
      }
    },
    {
      "cell_type": "code",
      "source": [
        "jumlah_qty_per_customer = df.groupby('seller_id')['qty_item'].sum()\n",
        "\n",
        "# Mengambil 10 seller_id dengan jumlah qty_item paling banyak\n",
        "top_10_customers = jumlah_qty_per_customer.nlargest(10)\n",
        "\n",
        "# Membuat tabel untuk menampilkan 10 seller_id paling banyak qty_item\n",
        "table_top_10 = pd.DataFrame({'seller_id': top_10_customers.index, 'total_qty_item': top_10_customers.values})\n",
        "\n",
        "# Menampilkan tabel\n",
        "print(table_top_10)"
      ],
      "metadata": {
        "id": "JyT9XAbQIkub",
        "colab": {
          "base_uri": "https://localhost:8080/"
        },
        "outputId": "2ab32422-e826-4e3c-fe1e-aa2167b287c7"
      },
      "execution_count": 19,
      "outputs": [
        {
          "output_type": "stream",
          "name": "stdout",
          "text": [
            "      seller_id  total_qty_item\n",
            "0  cc419-b7556a            1330\n",
            "1  4a3ca-493884            1311\n",
            "2  1f50f-523100            1186\n",
            "3  65602-7e94c0            1044\n",
            "4  3d871-733cb1             875\n",
            "5  7a67c-3ad736             846\n",
            "6  da862-dab84a             833\n",
            "7  7c67e-b010ab             785\n",
            "8  cca30-301306             752\n",
            "9  ea848-f13abc             534\n"
          ]
        }
      ]
    },
    {
      "cell_type": "code",
      "source": [
        "df['customer_delivery_time'].value_counts()"
      ],
      "metadata": {
        "id": "ilkTG_UYSY1m",
        "colab": {
          "base_uri": "https://localhost:8080/"
        },
        "outputId": "61eb4ae8-d1ed-4fd0-a2a3-993900c0cbbd"
      },
      "execution_count": 20,
      "outputs": [
        {
          "output_type": "execute_result",
          "data": {
            "text/plain": [
              "Fast     46287\n",
              "Delay     3257\n",
              "Name: customer_delivery_time, dtype: int64"
            ]
          },
          "metadata": {},
          "execution_count": 20
        }
      ]
    },
    {
      "cell_type": "code",
      "source": [
        "df['seller_dispatch_time'].value_counts()"
      ],
      "metadata": {
        "id": "LdngGjqqSk8b",
        "colab": {
          "base_uri": "https://localhost:8080/"
        },
        "outputId": "dc5bcee7-9a9c-400d-d52a-f658ff7e6a30"
      },
      "execution_count": 21,
      "outputs": [
        {
          "output_type": "execute_result",
          "data": {
            "text/plain": [
              "Fast     44911\n",
              "Delay     4633\n",
              "Name: seller_dispatch_time, dtype: int64"
            ]
          },
          "metadata": {},
          "execution_count": 21
        }
      ]
    },
    {
      "cell_type": "code",
      "source": [
        "df['order_status'].value_counts()"
      ],
      "metadata": {
        "id": "DZ5i6vr9Sqx5",
        "colab": {
          "base_uri": "https://localhost:8080/"
        },
        "outputId": "76500f2c-b8ad-45d7-b0b7-7adcd1734f39"
      },
      "execution_count": 22,
      "outputs": [
        {
          "output_type": "execute_result",
          "data": {
            "text/plain": [
              "delivered    49544\n",
              "Name: order_status, dtype: int64"
            ]
          },
          "metadata": {},
          "execution_count": 22
        }
      ]
    },
    {
      "cell_type": "code",
      "source": [
        "jumlah_qty_per_customer = df.groupby('product_category_name')['qty_item'].sum()\n",
        "\n",
        "# Mengambil 10 seller_id dengan jumlah qty_item paling banyak\n",
        "top_10_customers = jumlah_qty_per_customer.nlargest(20)\n",
        "\n",
        "# Membuat tabel untuk menampilkan 10 seller_id paling banyak qty_item\n",
        "table_top_10 = pd.DataFrame({'product_category_name': top_10_customers.index, 'total_qty_item': top_10_customers.values})\n",
        "\n",
        "# Menampilkan tabel\n",
        "print(table_top_10)"
      ],
      "metadata": {
        "id": "WIJFZiQtczvM",
        "colab": {
          "base_uri": "https://localhost:8080/"
        },
        "outputId": "ef2eec18-eb5f-49a9-d8e0-1567330f120f"
      },
      "execution_count": 23,
      "outputs": [
        {
          "output_type": "stream",
          "name": "stdout",
          "text": [
            "           product_category_name  total_qty_item\n",
            "0                 bed table bath            5982\n",
            "1           Furniture Decoration            4625\n",
            "2                  sport leisure            4616\n",
            "3                  HEALTH BEAUTY            4198\n",
            "4           computer accessories            3701\n",
            "5                     housewares            3167\n",
            "6                           toys            2712\n",
            "7                   Garden tools            2645\n",
            "8                Watches present            2588\n",
            "9                     Cool Stuff            2549\n",
            "10                     telephony            2499\n",
            "11                     perfumery            1929\n",
            "12                    automotive            1813\n",
            "13                        babies            1464\n",
            "14               stationery shop            1352\n",
            "15                   electronics            1244\n",
            "16  Fashion Bags and Accessories            1230\n",
            "17              Furniture office             936\n",
            "18                      pet Shop             860\n",
            "19                Games consoles             731\n"
          ]
        }
      ]
    },
    {
      "cell_type": "markdown",
      "source": [
        "category produk yang banyak dibeli yakni bed table bath dengan 5982 item terjual, diikuti furniture decoration."
      ],
      "metadata": {
        "id": "akMZPQZ7ePNn"
      }
    },
    {
      "cell_type": "code",
      "source": [
        "df['payment_type'].value_counts()"
      ],
      "metadata": {
        "id": "68jDxB1uej23",
        "colab": {
          "base_uri": "https://localhost:8080/"
        },
        "outputId": "268eff6d-015a-4ce1-ccf7-e4522db19f03"
      },
      "execution_count": 24,
      "outputs": [
        {
          "output_type": "execute_result",
          "data": {
            "text/plain": [
              "credit_card                                                                                     36372\n",
              "boleto_ticket                                                                                   10417\n",
              "voucher                                                                                           605\n",
              "credit_card, voucher                                                                              551\n",
              "debit_card                                                                                        502\n",
              "                                                                                                ...  \n",
              "voucher, credit_card, voucher, voucher, voucher, voucher, voucher, voucher, voucher, voucher        1\n",
              "voucher, voucher, voucher, voucher, credit_card, voucher, voucher                                   1\n",
              "voucher, voucher, voucher, voucher, voucher, voucher, voucher, voucher, voucher, voucher            1\n",
              "credit_card, voucher, voucher, voucher, voucher, voucher, voucher, voucher, voucher, voucher        1\n",
              "voucher, voucher, voucher, voucher, voucher, credit_card, voucher, voucher                          1\n",
              "Name: payment_type, Length: 61, dtype: int64"
            ]
          },
          "metadata": {},
          "execution_count": 24
        }
      ]
    },
    {
      "cell_type": "markdown",
      "source": [
        "customer membayar jumlah item yang ia beli kebanyakan mengunakan payment_type credit card"
      ],
      "metadata": {
        "id": "486hpy28fKVb"
      }
    },
    {
      "cell_type": "code",
      "source": [
        "total_payment_sum = df['total_payment_value'].sum()\n",
        "\n",
        "# Menampilkan hasil\n",
        "print(f\"Jumlah total_payment: {total_payment_sum}\")"
      ],
      "metadata": {
        "id": "FRfe6Ng-fy55",
        "colab": {
          "base_uri": "https://localhost:8080/"
        },
        "outputId": "2379d19c-8497-4fe7-8384-511fb2819cc3"
      },
      "execution_count": 25,
      "outputs": [
        {
          "output_type": "stream",
          "name": "stdout",
          "text": [
            "Jumlah total_payment: 7005797.88\n"
          ]
        }
      ]
    },
    {
      "cell_type": "code",
      "source": [
        "profit_order = (df['price']*df['qty_item']).sum()\n",
        "net_profit = total_payment_sum - profit_order\n",
        "\n",
        "print(profit_order)\n",
        "print(net_profit)"
      ],
      "metadata": {
        "id": "Se9_Xm4ShJnx",
        "colab": {
          "base_uri": "https://localhost:8080/"
        },
        "outputId": "43730717-4300-4cbd-e61e-90d97c806396"
      },
      "execution_count": 26,
      "outputs": [
        {
          "output_type": "stream",
          "name": "stdout",
          "text": [
            "6756850.430000001\n",
            "248947.44999999925\n"
          ]
        }
      ]
    },
    {
      "cell_type": "markdown",
      "source": [
        "Keuntungan bersih yang didapatkan oleh samba commerce pada periode januari 2021 hingga januaru 2022 yakni 1,7M"
      ],
      "metadata": {
        "id": "IO1mtWQpicLe"
      }
    },
    {
      "cell_type": "markdown",
      "source": [
        "# **Kesimpulan**\n",
        "\n",
        "Periode Januari 2021 - Januari 2022\n",
        "1. Samba commerce sudah mendapatkan 49.544 order, 48.022 customer, dan 1.771 seller. rata-rata customer membeli 1 item untuk satu kali pemesanan.\n",
        "2. customer paling banyak berasal dari sau paulo state, dengan 40% dari keseluruhan order samba commerce.\n",
        "3. perolehan order menunjukan tren yang baik, pada bulan november menjadi order yang paling banyak meningkat. Peningkatan ini disebabkan adanya penambahan customer_city.\n",
        "4. untuk proses pemprosesan, pengiriman, dan penerima menunjukan fast (hal baik)lalu order ke customer memiliki status delivery untuk semua order.\n",
        "5. customer lebih suka type payment melalui credit payment\n",
        "6. total payment yang didapatkan sebanyak 7M, laba bersih sejumlah 1.7M dari total pemasukan saja."
      ],
      "metadata": {
        "id": "7eun6xyyfFiK"
      }
    }
  ]
}